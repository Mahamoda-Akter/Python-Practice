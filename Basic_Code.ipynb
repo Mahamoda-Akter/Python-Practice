{
 "cells": [
  {
   "cell_type": "code",
   "execution_count": 2,
   "id": "cafdd66f-0e0f-4475-89eb-a090525d6fac",
   "metadata": {},
   "outputs": [
    {
     "name": "stdout",
     "output_type": "stream",
     "text": [
      "Hello new me!!\n"
     ]
    }
   ],
   "source": [
    "print (\"Hello new me!!\")"
   ]
  },
  {
   "cell_type": "code",
   "execution_count": 43,
   "id": "a92961a3-ff27-4bf5-a89d-d11e971793db",
   "metadata": {},
   "outputs": [
    {
     "name": "stdout",
     "output_type": "stream",
     "text": [
      "14\n"
     ]
    }
   ],
   "source": [
    "print(10+4)"
   ]
  },
  {
   "cell_type": "code",
   "execution_count": 28,
   "id": "8e80ff88-b490-45a5-a29b-868f089e9a9e",
   "metadata": {},
   "outputs": [
    {
     "name": "stdout",
     "output_type": "stream",
     "text": [
      "I am not happy\n",
      "I am so sad\n"
     ]
    }
   ],
   "source": [
    "x = \"I am not happy\"\n",
    "y = \"I am so sad\"\n",
    "print (x)\n",
    "print (y)"
   ]
  },
  {
   "cell_type": "code",
   "execution_count": 49,
   "id": "b40181d0-ee4b-4fb2-9645-e74ccfe1fa9c",
   "metadata": {},
   "outputs": [
    {
     "name": "stdout",
     "output_type": "stream",
     "text": [
      "I will cut everyone in pieces\n"
     ]
    }
   ],
   "source": [
    "if 16 > 12:\n",
    "    print ('I will cut everyone in pieces')"
   ]
  },
  {
   "cell_type": "code",
   "execution_count": 55,
   "id": "bedc558e-f43f-47d3-afc6-6d11145c3bef",
   "metadata": {},
   "outputs": [
    {
     "name": "stdout",
     "output_type": "stream",
     "text": [
      "muktadir is taller\n"
     ]
    }
   ],
   "source": [
    "if 5 > 5.5:\n",
    "    print (\"muktadir is shorter than rupa\")\n",
    "else:\n",
    "    print (\"muktadir is taller\")"
   ]
  },
  {
   "cell_type": "code",
   "execution_count": null,
   "id": "ee3f7733-11f8-42c9-9672-8656946515d2",
   "metadata": {},
   "outputs": [],
   "source": []
  }
 ],
 "metadata": {
  "kernelspec": {
   "display_name": "Python 3 (ipykernel)",
   "language": "python",
   "name": "python3"
  },
  "language_info": {
   "codemirror_mode": {
    "name": "ipython",
    "version": 3
   },
   "file_extension": ".py",
   "mimetype": "text/x-python",
   "name": "python",
   "nbconvert_exporter": "python",
   "pygments_lexer": "ipython3",
   "version": "3.12.4"
  }
 },
 "nbformat": 4,
 "nbformat_minor": 5
}
